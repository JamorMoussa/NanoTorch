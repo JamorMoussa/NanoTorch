{
 "cells": [
  {
   "cell_type": "markdown",
   "metadata": {},
   "source": [
    "# Tensor"
   ]
  },
  {
   "cell_type": "markdown",
   "metadata": {},
   "source": [
    "## What's Tensor?"
   ]
  },
  {
   "cell_type": "markdown",
   "metadata": {},
   "source": [
    "Deep learning at a low level can be seen as just **tensor** manipulation. A **tensor** can be defined as a generalization of vectors and matrices to higher dimensions. Thus, **tensors** are at the heart of deep learning.\n"
   ]
  },
  {
   "cell_type": "markdown",
   "metadata": {},
   "source": [
    "<figure markdown>\n",
    "    <center>\n",
    "    <img src= \"/images/docs/tensor/tensor.png\" width= \"500\" />\n",
    "    <figcaption> <b> Tensor </b> </figcaption>\n",
    "</figure>"
   ]
  },
  {
   "cell_type": "markdown",
   "metadata": {},
   "source": [
    "The first thing we need to address in building `NanoTorch` is having a powerful and efficient tensors module that ensures numerical stability. Achieving this can be challenging and is not our primary mission here. Therefore, we're going to use `Numpy`, a Python library that provides powerful N-dimensional arrays. `Numpy` is fast (C implementation) and easy to use, making it an excellent choice for handling tensor operations."
   ]
  },
  {
   "cell_type": "markdown",
   "metadata": {},
   "source": [
    "However, we need to make some decisions about the way of integrating the `Numpy` library to ensure compatibility with other modules in NanoTorch. We'll discuss these decisions in a few moments.\n"
   ]
  },
  {
   "cell_type": "markdown",
   "metadata": {},
   "source": [
    "## The Structure of `Tensor` Module"
   ]
  },
  {
   "cell_type": "markdown",
   "metadata": {},
   "source": [
    "The **tensor** module contains two files, `tensor.py` that include implementing the `Tensor` class. The `ops.py` contains functions and operations such as `dot`, `sum`, etc."
   ]
  },
  {
   "cell_type": "markdown",
   "metadata": {},
   "source": [
    "```\n",
    "├── nanotorch\n",
    "│   ├── tensor\n",
    "│   │   ├── __init__.py\n",
    "│   │   ├── ops.py\n",
    "│   │   └── tensor.py\n",
    "```"
   ]
  },
  {
   "cell_type": "markdown",
   "metadata": {},
   "source": [
    "## `Tensor` class"
   ]
  },
  {
   "cell_type": "code",
   "execution_count": null,
   "metadata": {},
   "outputs": [],
   "source": [
    "import numpy as np \n",
    "from typing import Self"
   ]
  },
  {
   "cell_type": "code",
   "execution_count": null,
   "metadata": {},
   "outputs": [],
   "source": [
    "class Tensor(np.ndarray):\n",
    "\n",
    "    def __new__(cls, input: Self) -> Self:\n",
    "        \n",
    "        if isinstance(input, (int, float)): input = np.array([input,])\n",
    "        \n",
    "        if not isinstance(input, (Tensor, list, tuple, np.ndarray)): \n",
    "            raise ValueError(f\"the 'input' attributes must be list, tuple, numpy.ndarray. But '{input.__class__.__name__}' is given\") \n",
    "        \n",
    "        # reshape to 2-d if the input is 1-d:\n",
    "        if not isinstance(input, np.ndarray): input = np.array(input)\n",
    "        if input.ndim == 1: input = input.reshape(1, -1)\n",
    "        \n",
    "        # create a view : \n",
    "        obj = np.asanyarray(input).view(cls)\n",
    "\n",
    "        return obj"
   ]
  }
 ],
 "metadata": {
  "kernelspec": {
   "display_name": "Python 3 (ipykernel)",
   "language": "python",
   "name": "python3"
  },
  "language_info": {
   "codemirror_mode": {
    "name": "ipython",
    "version": 3
   },
   "file_extension": ".py",
   "mimetype": "text/x-python",
   "name": "python",
   "nbconvert_exporter": "python",
   "pygments_lexer": "ipython3",
   "version": "3.11.6"
  }
 },
 "nbformat": 4,
 "nbformat_minor": 4
}
